{
 "cells": [
  {
   "cell_type": "markdown",
   "id": "4fd7b6b3",
   "metadata": {},
   "source": [
    "***1. Из колоды в 52 карты извлекаются случайным образом 4 карты. a) Найти вероятность того, что все карты – крести. б) Найти вероятность, что среди 4-х карт окажется хотя бы один туз.***"
   ]
  },
  {
   "cell_type": "code",
   "execution_count": 25,
   "id": "71282d65",
   "metadata": {},
   "outputs": [
    {
     "name": "stdout",
     "output_type": "stream",
     "text": [
      "Вероятность того, что все 4 карты крести ~ 0.00264%\n"
     ]
    }
   ],
   "source": [
    "def combination(k,n):\n",
    "    return int(factorial(n)/(factorial(k)*factorial(n-k)))\n",
    "\n",
    "p_4_out_of_52 = combination(4,52)\n",
    "p_clubs = combination(4,13)\n",
    "p_1 = p_clubs/p_4_out_of_52\n",
    "print(f'Вероятность того, что все 4 карты крести ~ {round(p_1,5)}')"
   ]
  },
  {
   "cell_type": "code",
   "execution_count": 38,
   "id": "b840a944",
   "metadata": {},
   "outputs": [
    {
     "name": "stdout",
     "output_type": "stream",
     "text": [
      "Вероятность того, что в вытянутых 4 картах окажется хотя бы один туз ~ 0.28126\n"
     ]
    }
   ],
   "source": [
    "p_aces = combination(1,4)*combination(3,48) + combination(2,4)*combination(2,48) + combination(3,4)*combination(1,48) + 1\n",
    "p_2 = p_aces/p_4_out_of_52\n",
    "print(f'Вероятность того, что в вытянутых 4 картах окажется хотя бы один туз ~ {round(p_2,5)}')"
   ]
  },
  {
   "cell_type": "markdown",
   "id": "089429d9",
   "metadata": {},
   "source": [
    "***2. На входной двери подъезда установлен кодовый замок, содержащий десять кнопок с цифрами от 0 до 9. Код содержит три цифры, которые нужно нажать одновременно. Какова вероятность того, что человек, не знающий код, откроет дверь с первой попытки?***"
   ]
  },
  {
   "cell_type": "code",
   "execution_count": 58,
   "id": "31f647b6",
   "metadata": {},
   "outputs": [
    {
     "name": "stdout",
     "output_type": "stream",
     "text": [
      "Вероятность того, что дверь откроется с первой попытки равна ~0.0014\n"
     ]
    }
   ],
   "source": [
    "def arrangments(k,n):\n",
    "    return int(factorial(n)/factorial(n-k))\n",
    "\n",
    "all_variants = arrangments(3,10)\n",
    "print(f\"Вероятность того, что дверь откроется с первой попытки равна ~{round(1/all_variants,4)}\")"
   ]
  },
  {
   "cell_type": "markdown",
   "id": "9cd928b7",
   "metadata": {},
   "source": [
    "***3. В ящике имеется 15 деталей, из которых 9 окрашены. Рабочий случайным образом извлекает 3 детали. Какова вероятность того, что все извлеченные детали окрашены?***"
   ]
  },
  {
   "cell_type": "code",
   "execution_count": 62,
   "id": "a920c8e9",
   "metadata": {},
   "outputs": [
    {
     "name": "stdout",
     "output_type": "stream",
     "text": [
      "Вероятность того, что все извлеченные детали окрашены ~0.1846\n"
     ]
    }
   ],
   "source": [
    "p_1 = 9/15\n",
    "p_2 = 8/14\n",
    "p_3 = 7/13\n",
    "p = p_1 * p_2 * p_3 # p - одновременное наступление всех трех событий, т.е. извлечения трех окрашенных деталей\n",
    "print(f\"Вероятность того, что все извлеченные детали окрашены ~{round(p,4)}\")"
   ]
  },
  {
   "cell_type": "markdown",
   "id": "c8ec0867",
   "metadata": {},
   "source": [
    "***4. В лотерее 100 билетов. Из них 2 выигрышных. Какова вероятность того, что 2 приобретенных билета окажутся выигрышными?***"
   ]
  },
  {
   "cell_type": "code",
   "execution_count": 63,
   "id": "0e284eb6",
   "metadata": {},
   "outputs": [
    {
     "name": "stdout",
     "output_type": "stream",
     "text": [
      "Вероятность того, что 2 приобретенных билета из 100 окажутся выигрышными равна ~0.0002\n"
     ]
    }
   ],
   "source": [
    "p_1 = 2/100\n",
    "p_2 = 1/99\n",
    "p = p_1*p_2\n",
    "print(f\"Вероятность того, что 2 приобретенных билета из 100 окажутся выигрышными равна ~{round(p,4)}\")"
   ]
  }
 ],
 "metadata": {
  "kernelspec": {
   "display_name": "Python 3 (ipykernel)",
   "language": "python",
   "name": "python3"
  },
  "language_info": {
   "codemirror_mode": {
    "name": "ipython",
    "version": 3
   },
   "file_extension": ".py",
   "mimetype": "text/x-python",
   "name": "python",
   "nbconvert_exporter": "python",
   "pygments_lexer": "ipython3",
   "version": "3.9.7"
  }
 },
 "nbformat": 4,
 "nbformat_minor": 5
}
